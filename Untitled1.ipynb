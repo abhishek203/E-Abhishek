{
  "nbformat": 4,
  "nbformat_minor": 0,
  "metadata": {
    "colab": {
      "name": "Untitled1.ipynb",
      "provenance": [],
      "collapsed_sections": [],
      "authorship_tag": "ABX9TyMQdq0OncTwhe+95398hpo7",
      "include_colab_link": true
    },
    "kernelspec": {
      "name": "python3",
      "display_name": "Python 3"
    },
    "accelerator": "GPU"
  },
  "cells": [
    {
      "cell_type": "markdown",
      "metadata": {
        "id": "view-in-github",
        "colab_type": "text"
      },
      "source": [
        "<a href=\"https://colab.research.google.com/github/abhishek203/E-Abhishek/blob/master/Untitled1.ipynb\" target=\"_parent\"><img src=\"https://colab.research.google.com/assets/colab-badge.svg\" alt=\"Open In Colab\"/></a>"
      ]
    },
    {
      "cell_type": "code",
      "metadata": {
        "id": "Hec-Wv753dkz",
        "colab_type": "code",
        "colab": {}
      },
      "source": [
        "import numpy as np\n",
        "import pandas as pd \n",
        "import tensorflow as tf\n",
        "import re\n",
        "import time\n",
        "import io\n",
        "import os\n",
        "from keras.preprocessing.sequence import pad_sequences\n",
        "from keras.utils import plot_model\n",
        "from keras.models import Model\n",
        "from keras.layers import Input, LSTM, Dense, Embedding, Bidirectional, concatenate\n",
        "from keras.callbacks import EarlyStopping, ModelCheckpoint, ReduceLROnPlateau\n",
        "import time\n",
        "import matplotlib.pyplot as plt\n",
        "import matplotlib.ticker as ticker\n",
        "from sklearn.model_selection import train_test_split\n",
        "\n"
      ],
      "execution_count": 0,
      "outputs": []
    },
    {
      "cell_type": "code",
      "metadata": {
        "id": "eYBAQZHY4dV2",
        "colab_type": "code",
        "colab": {}
      },
      "source": [
        "path_to_zip = tf.keras.utils.get_file(\n",
        "    'cornell movie-dialogs corpus.zip', origin='http://www.cs.cornell.edu/~cristian/data/cornell_movie_dialogs_corpus.zip',\n",
        "    extract=True)\n",
        "\n",
        "path_to_lines = os.path.dirname(path_to_zip)+\"/cornell movie-dialogs corpus/movie_lines.txt\"\n",
        "path_to_conv = os.path.dirname(path_to_zip)+\"/cornell movie-dialogs corpus/movie_conversations.txt\""
      ],
      "execution_count": 0,
      "outputs": []
    },
    {
      "cell_type": "code",
      "metadata": {
        "id": "IkT2CQjs4psK",
        "colab_type": "code",
        "colab": {}
      },
      "source": [
        "lines = io.open(path_to_lines,encoding = 'utf-8',errors='ignore').read().strip().split('\\n')\n",
        "conv_lines = io.open(path_to_conv,errors = 'ignore').read().strip().split('\\n')"
      ],
      "execution_count": 0,
      "outputs": []
    },
    {
      "cell_type": "markdown",
      "metadata": {
        "id": "QtbvxVnfEf__",
        "colab_type": "text"
      },
      "source": [
        "# New Section"
      ]
    },
    {
      "cell_type": "code",
      "metadata": {
        "id": "f_GKxiArEi51",
        "colab_type": "code",
        "colab": {}
      },
      "source": [
        "# Import PyDrive and associated libraries.\n",
        "# This only needs to be done once per notebook.\n",
        "from pydrive.auth import GoogleAuth\n",
        "from pydrive.drive import GoogleDrive\n",
        "from google.colab import auth\n",
        "from oauth2client.client import GoogleCredentials\n",
        "\n",
        "# Authenticate and create the PyDrive client.\n",
        "# This only needs to be done once per notebook.\n",
        "auth.authenticate_user()\n",
        "gauth = GoogleAuth()\n",
        "gauth.credentials = GoogleCredentials.get_application_default()\n",
        "drive = GoogleDrive(gauth)\n",
        "\n",
        "# Download a file based on its file ID.\n",
        "#\n",
        "# A file ID looks like: laggVyWshwcyP6kEI-y_W3P8D26sz\n",
        "file_id = 'REPLACE_WITH_YOUR_FILE_ID'\n",
        "downloaded = drive.CreateFile({'id': file_id})\n",
        "print('Downloaded content \"{}\"'.format(downloaded.GetContentString()))"
      ],
      "execution_count": 0,
      "outputs": []
    },
    {
      "cell_type": "code",
      "metadata": {
        "id": "eKq9gYl0D3k1",
        "colab_type": "code",
        "colab": {}
      },
      "source": [
        "id2line ={}\n",
        "for line in lines:\n",
        "  _line = line.split(' +++$+++ ')\n",
        "  if len(_line) ==5:\n",
        "      id2line[_line[0]] = _line[4]\n"
      ],
      "execution_count": 0,
      "outputs": []
    },
    {
      "cell_type": "code",
      "metadata": {
        "id": "FmjNy5cOfucK",
        "colab_type": "code",
        "colab": {}
      },
      "source": [
        "convs = []\n",
        "for line in conv_lines:\n",
        "    _line = line.split(' +++$+++ ')[-1][1:-1].replace(r\"'\",\"\").replace(\" \",\"\")\n",
        "    convs.append(_line.split(','))"
      ],
      "execution_count": 0,
      "outputs": []
    },
    {
      "cell_type": "code",
      "metadata": {
        "id": "NYVsURI-tTFN",
        "colab_type": "code",
        "colab": {}
      },
      "source": [
        "#question and answer\n",
        "question = []\n",
        "answer = []\n",
        "for k in convs:\n",
        "  for l in range(len(k)-1):\n",
        "    question.append(id2line[k[l]])\n",
        "    answer.append(id2line[k[l+1]])"
      ],
      "execution_count": 0,
      "outputs": []
    },
    {
      "cell_type": "code",
      "metadata": {
        "id": "T1NL_xcTDaMf",
        "colab_type": "code",
        "colab": {}
      },
      "source": [
        "def clean_text(text):\n",
        "    '''Clean text by removing unnecessary characters and altering the format of words.'''\n",
        "\n",
        "    text = text.lower()\n",
        "    \n",
        "    text = re.sub(r\"i'm\", \"i am\", text)\n",
        "    text = re.sub(r\"he's\", \"he is\", text)\n",
        "    text = re.sub(r\"she's\", \"she is\", text)\n",
        "    text = re.sub(r\"it's\", \"it is\", text)\n",
        "    text = re.sub(r\"that's\", \"that is\", text)\n",
        "    text = re.sub(r\"what's\", \"that is\", text)\n",
        "    text = re.sub(r\"where's\", \"where is\", text)\n",
        "    text = re.sub(r\"how's\", \"how is\", text)\n",
        "    text = re.sub(r\"\\'ll\", \" will\", text)\n",
        "    text = re.sub(r\"\\'ve\", \" have\", text)\n",
        "    text = re.sub(r\"\\'re\", \" are\", text)\n",
        "    text = re.sub(r\"\\'d\", \" would\", text)\n",
        "    text = re.sub(r\"\\'re\", \" are\", text)\n",
        "    text = re.sub(r\"won't\", \"will not\", text)\n",
        "    text = re.sub(r\"can't\", \"cannot\", text)\n",
        "    text = re.sub(r\"n't\", \" not\", text)\n",
        "    text = re.sub(r\"n'\", \"ng\", text)\n",
        "    text = re.sub(r\"'bout\", \"about\", text)\n",
        "    text = re.sub(r\"'til\", \"until\", text)\n",
        "    text = re.sub(r\"[-()\\\"#/@;:<>{}`+=~|.!?,]\", \"\", text)\n",
        "    text = \" \".join(text.split())\n",
        "    return text"
      ],
      "execution_count": 0,
      "outputs": []
    },
    {
      "cell_type": "code",
      "metadata": {
        "id": "ababvqSgD44A",
        "colab_type": "code",
        "colab": {}
      },
      "source": [
        "clean_questions = []\n",
        "for aquestion in question:\n",
        "    clean_questions.append(clean_text(aquestion))\n",
        "    \n",
        "clean_answers = []    \n",
        "for aanswer in answer:\n",
        "    clean_answers.append(clean_text(aanswer))"
      ],
      "execution_count": 0,
      "outputs": []
    },
    {
      "cell_type": "code",
      "metadata": {
        "id": "wJoJ8Ca1UJhg",
        "colab_type": "code",
        "colab": {}
      },
      "source": [
        "min_length = 2\n",
        "max_length =20\n",
        "l = 0\n",
        "short_question_temp = []\n",
        "short_ans_temp = []\n",
        "for aquestion in clean_questions:\n",
        "  if len(aquestion)>=min_length and len(aquestion)<=max_length:\n",
        "    short_question_temp.append(aquestion)\n",
        "    short_ans_temp.append(clean_answers[l])\n",
        "  l+=1"
      ],
      "execution_count": 0,
      "outputs": []
    },
    {
      "cell_type": "code",
      "metadata": {
        "id": "qX7VW2nXt5MV",
        "colab_type": "code",
        "colab": {}
      },
      "source": [
        "short_ans = []\n",
        "short_question = []\n",
        "m = 0\n",
        "for aanswer in short_ans_temp:\n",
        "  if len(aanswer)>=min_length and len(aanswer)<=max_length:\n",
        "    short_ans.append(aanswer)\n",
        "    short_question.append(short_question_temp[m])\n",
        "  m+=1"
      ],
      "execution_count": 0,
      "outputs": []
    },
    {
      "cell_type": "code",
      "metadata": {
        "id": "hgByV_h7-p1G",
        "colab_type": "code",
        "colab": {}
      },
      "source": [
        "for i in range(len(short_question)):\n",
        "  short_question[i]='<start> '+ short_question[i] +' <end>'\n",
        "for i in range(len(short_ans)):\n",
        "  short_ans[i] = '<start> '+ short_ans[i] +' <end>'\n"
      ],
      "execution_count": 0,
      "outputs": []
    },
    {
      "cell_type": "code",
      "metadata": {
        "id": "H_HLqsq8-rjv",
        "colab_type": "code",
        "outputId": "b60fef16-7825-444a-f5fb-8663af0d067f",
        "colab": {
          "base_uri": "https://localhost:8080/",
          "height": 35
        }
      },
      "source": [
        "short_ans[90]"
      ],
      "execution_count": 0,
      "outputs": [
        {
          "output_type": "execute_result",
          "data": {
            "text/plain": [
              "'<start> it is okay <end>'"
            ]
          },
          "metadata": {
            "tags": []
          },
          "execution_count": 86
        }
      ]
    },
    {
      "cell_type": "code",
      "metadata": {
        "id": "XfdHN90NlCE0",
        "colab_type": "code",
        "colab": {}
      },
      "source": [
        "#tokenizer\n",
        "tokenizer = tf.keras.preprocessing.text.Tokenizer(filters='',num_words=1000,oov_token='<oov>')\n",
        "\n",
        "tokenizer.fit_on_texts(short_question)\n",
        "question_seq = tokenizer.texts_to_sequences(short_question)\n",
        "question_seq = tf.keras.preprocessing.sequence.pad_sequences(question_seq,padding='post')\n",
        "tokenizer.fit_on_texts(short_ans)\n",
        "ans_seq = tokenizer.texts_to_sequences(short_ans)\n",
        "ans_seq = tf.keras.preprocessing.sequence.pad_sequences(ans_seq, padding = 'post')"
      ],
      "execution_count": 0,
      "outputs": []
    },
    {
      "cell_type": "code",
      "metadata": {
        "id": "73_BMtzDh8_A",
        "colab_type": "code",
        "outputId": "f2740524-7a1e-4459-9820-9ac8985c9097",
        "colab": {
          "base_uri": "https://localhost:8080/",
          "height": 35
        }
      },
      "source": [
        "len(question_seq)"
      ],
      "execution_count": 0,
      "outputs": [
        {
          "output_type": "execute_result",
          "data": {
            "text/plain": [
              "22928"
            ]
          },
          "metadata": {
            "tags": []
          },
          "execution_count": 88
        }
      ]
    },
    {
      "cell_type": "code",
      "metadata": {
        "id": "zkr01RuDnYr5",
        "colab_type": "code",
        "colab": {}
      },
      "source": [
        "\n",
        "BATCH_SIZE = 64\n",
        "steps_per_epoch = len(question_seq)//BATCH_SIZE\n",
        "embedding_dim = 256\n",
        "units = 1024\n",
        "vocab_inp_size = len(tokenizer.word_index)+1\n",
        "vocab_tar_size = len(tokenizer.word_index)+1\n",
        "dataset = tf.data.Dataset.from_tensor_slices((question_seq,ans_seq))\n",
        "dataset = dataset.batch(BATCH_SIZE, drop_remainder=True)\n"
      ],
      "execution_count": 0,
      "outputs": []
    },
    {
      "cell_type": "code",
      "metadata": {
        "id": "KyThEksG7lJz",
        "colab_type": "code",
        "outputId": "24e32e76-388d-4b81-e2d6-80c19b7a7719",
        "colab": {
          "base_uri": "https://localhost:8080/",
          "height": 35
        }
      },
      "source": [
        "example_input_batch, example_target_batch = next(iter(dataset))\n",
        "example_input_batch.shape, example_target_batch.shape"
      ],
      "execution_count": 0,
      "outputs": [
        {
          "output_type": "execute_result",
          "data": {
            "text/plain": [
              "(TensorShape([64, 9]), TensorShape([64, 9]))"
            ]
          },
          "metadata": {
            "tags": []
          },
          "execution_count": 90
        }
      ]
    },
    {
      "cell_type": "code",
      "metadata": {
        "id": "2yJ1Gvk68Awd",
        "colab_type": "code",
        "outputId": "596f5e60-ff09-4429-e906-3d8b0d0b2bb8",
        "colab": {
          "base_uri": "https://localhost:8080/",
          "height": 35
        }
      },
      "source": [
        "tokenizer.word_index['<start>']"
      ],
      "execution_count": 0,
      "outputs": [
        {
          "output_type": "execute_result",
          "data": {
            "text/plain": [
              "2"
            ]
          },
          "metadata": {
            "tags": []
          },
          "execution_count": 91
        }
      ]
    },
    {
      "cell_type": "code",
      "metadata": {
        "id": "c2_Xa0q0pLxO",
        "colab_type": "code",
        "colab": {}
      },
      "source": [
        "class Encoder(tf.keras.Model):\n",
        "  def __init__(self, vocab_size, embedding_dim, enc_units, batch_sz):\n",
        "    super(Encoder, self).__init__()\n",
        "    self.batch_sz = batch_sz\n",
        "    self.enc_units = enc_units\n",
        "    self.embedding = tf.keras.layers.Embedding(vocab_size, embedding_dim)\n",
        "    self.gru = tf.keras.layers.GRU(self.enc_units,\n",
        "                                   return_sequences=True,\n",
        "                                   return_state=True,\n",
        "                                   recurrent_initializer='glorot_uniform')\n",
        "  \n",
        "  def call(self, x, hidden):\n",
        "    x = self.embedding(x)\n",
        "    output, state = self.gru(x, initial_state = hidden)\n",
        "    return output, state\n",
        "\n",
        "  def initialize_hidden_state(self):\n",
        "    return tf.zeros((self.batch_sz, self.enc_units))"
      ],
      "execution_count": 0,
      "outputs": []
    },
    {
      "cell_type": "code",
      "metadata": {
        "id": "X0lo4NaJ8cDn",
        "colab_type": "code",
        "outputId": "9744b591-f0b7-459c-cab3-00a34c3e2c60",
        "colab": {
          "base_uri": "https://localhost:8080/",
          "height": 52
        }
      },
      "source": [
        "encoder = Encoder(vocab_inp_size, embedding_dim, units, BATCH_SIZE)\n",
        "\n",
        "# sample input\n",
        "sample_hidden = encoder.initialize_hidden_state()\n",
        "sample_output, sample_hidden = encoder(example_input_batch, sample_hidden)\n",
        "print ('Encoder output shape: (batch size, sequence length, units) {}'.format(sample_output.shape))\n",
        "print ('Encoder Hidden state shape: (batch size, units) {}'.format(sample_hidden.shape))"
      ],
      "execution_count": 0,
      "outputs": [
        {
          "output_type": "stream",
          "text": [
            "Encoder output shape: (batch size, sequence length, units) (64, 9, 1024)\n",
            "Encoder Hidden state shape: (batch size, units) (64, 1024)\n"
          ],
          "name": "stdout"
        }
      ]
    },
    {
      "cell_type": "code",
      "metadata": {
        "id": "Jm5S9FPAplHU",
        "colab_type": "code",
        "colab": {}
      },
      "source": [
        "class BahdanauAttention(tf.keras.layers.Layer):\n",
        "  def __init__(self, units):\n",
        "    super(BahdanauAttention, self).__init__()\n",
        "    self.W1 = tf.keras.layers.Dense(units)\n",
        "    self.W2 = tf.keras.layers.Dense(units)\n",
        "    self.V = tf.keras.layers.Dense(1)\n",
        "\n",
        "  def call(self, query, values):\n",
        "    # query hidden state shape == (batch_size, hidden size)\n",
        "    # query_with_time_axis shape == (batch_size, 1, hidden size)\n",
        "    # values shape == (batch_size, max_len, hidden size)\n",
        "    # we are doing this to broadcast addition along the time axis to calculate the score\n",
        "    query_with_time_axis = tf.expand_dims(query, 1)\n",
        "\n",
        "    # score shape == (batch_size, max_length, 1)\n",
        "    # we get 1 at the last axis because we are applying score to self.V\n",
        "    # the shape of the tensor before applying self.V is (batch_size, max_length, units)\n",
        "    score = self.V(tf.nn.tanh(\n",
        "        self.W1(query_with_time_axis) + self.W2(values)))\n",
        "\n",
        "    # attention_weights shape == (batch_size, max_length, 1)\n",
        "    attention_weights = tf.nn.softmax(score, axis=1)\n",
        "\n",
        "    # context_vector shape after sum == (batch_size, hidden_size)\n",
        "    context_vector = attention_weights * values\n",
        "    context_vector = tf.reduce_sum(context_vector, axis=1)\n",
        "\n",
        "    return context_vector, attention_weights"
      ],
      "execution_count": 0,
      "outputs": []
    },
    {
      "cell_type": "code",
      "metadata": {
        "id": "LjUzfy7V8kWa",
        "colab_type": "code",
        "outputId": "1decb6aa-7c9d-456f-a476-e628fdc4f169",
        "colab": {
          "base_uri": "https://localhost:8080/",
          "height": 52
        }
      },
      "source": [
        "attention_layer = BahdanauAttention(10)\n",
        "attention_result, attention_weights = attention_layer(sample_hidden, sample_output)\n",
        "\n",
        "print(\"Attention result shape: (batch size, units) {}\".format(attention_result.shape))\n",
        "print(\"Attention weights shape: (batch_size, sequence_length, 1) {}\".format(attention_weights.shape))"
      ],
      "execution_count": 0,
      "outputs": [
        {
          "output_type": "stream",
          "text": [
            "Attention result shape: (batch size, units) (64, 1024)\n",
            "Attention weights shape: (batch_size, sequence_length, 1) (64, 9, 1)\n"
          ],
          "name": "stdout"
        }
      ]
    },
    {
      "cell_type": "code",
      "metadata": {
        "id": "xbFv8q2Jpqdv",
        "colab_type": "code",
        "colab": {}
      },
      "source": [
        "class Decoder(tf.keras.Model):\n",
        "  def __init__(self, vocab_size, embedding_dim, dec_units, batch_sz):\n",
        "    super(Decoder, self).__init__()\n",
        "    self.batch_sz = batch_sz\n",
        "    self.dec_units = dec_units\n",
        "    self.embedding = tf.keras.layers.Embedding(vocab_size, embedding_dim)\n",
        "    self.gru = tf.keras.layers.GRU(self.dec_units,\n",
        "                                   return_sequences=True,\n",
        "                                   return_state=True,\n",
        "                                   recurrent_initializer='glorot_uniform')\n",
        "    self.fc = tf.keras.layers.Dense(vocab_size)\n",
        "\n",
        "    # used for attention\n",
        "    self.attention = BahdanauAttention(self.dec_units)\n",
        "  \n",
        "  def call(self, x, hidden, enc_output):\n",
        "    # enc_output shape == (batch_size, max_length, hidden_size)\n",
        "    context_vector, attention_weights = self.attention(hidden, enc_output)\n",
        "\n",
        "    # x shape after passing through embedding == (batch_size, 1, embedding_dim)\n",
        "    x = self.embedding(x)\n",
        "\n",
        "    # x shape after concatenation == (batch_size, 1, embedding_dim + hidden_size)\n",
        "    x = tf.concat([tf.expand_dims(context_vector, 1), x], axis=-1)\n",
        "\n",
        "    # passing the concatenated vector to the GRU\n",
        "    output, state = self.gru(x)\n",
        "\n",
        "    # output shape == (batch_size * 1, hidden_size)\n",
        "    output = tf.reshape(output, (-1, output.shape[2]))\n",
        "\n",
        "    # output shape == (batch_size, vocab)\n",
        "    x = self.fc(output)\n",
        "\n",
        "    return x, state, attention_weights\n"
      ],
      "execution_count": 0,
      "outputs": []
    },
    {
      "cell_type": "code",
      "metadata": {
        "id": "GM5F9Z4QwsWT",
        "colab_type": "code",
        "colab": {}
      },
      "source": [
        "encoder = Encoder(vocab_inp_size, embedding_dim, units, BATCH_SIZE)\n",
        "attention_layer = BahdanauAttention(10)\n",
        "decoder = Decoder(vocab_tar_size, embedding_dim, units, BATCH_SIZE)\n"
      ],
      "execution_count": 0,
      "outputs": []
    },
    {
      "cell_type": "code",
      "metadata": {
        "id": "BfCWcaDHpy-x",
        "colab_type": "code",
        "colab": {}
      },
      "source": [
        "optimizer = tf.keras.optimizers.Adam()\n",
        "loss_object = tf.keras.losses.SparseCategoricalCrossentropy(\n",
        "    from_logits=True, reduction='none')\n",
        "\n",
        "def loss_function(real, pred):\n",
        "  mask = tf.math.logical_not(tf.math.equal(real, 0))\n",
        "  loss_ = loss_object(real, pred)\n",
        "\n",
        "  mask = tf.cast(mask, dtype=loss_.dtype)\n",
        "  loss_ *= mask\n",
        "\n",
        "  return tf.reduce_mean(loss_)"
      ],
      "execution_count": 0,
      "outputs": []
    },
    {
      "cell_type": "code",
      "metadata": {
        "id": "YHtGNo-pXRp7",
        "colab_type": "code",
        "colab": {}
      },
      "source": [
        "checkpoint_dir = './training_checkpoints'\n",
        "checkpoint_prefix = os.path.join(checkpoint_dir, \"ckpt\")\n",
        "checkpoint = tf.train.Checkpoint(optimizer=optimizer,\n",
        "                                 encoder=encoder,\n",
        "                                 decoder=decoder)"
      ],
      "execution_count": 0,
      "outputs": []
    },
    {
      "cell_type": "code",
      "metadata": {
        "id": "iy54ViJ3PjDM",
        "colab_type": "code",
        "outputId": "fba74439-b8af-4ee1-ea9c-41ce7f9a0082",
        "colab": {
          "base_uri": "https://localhost:8080/",
          "height": 468
        }
      },
      "source": [
        "!ls {checkpoint_dir}"
      ],
      "execution_count": 0,
      "outputs": [
        {
          "output_type": "stream",
          "text": [
            "checkpoint\t\t     ckpt-1.data-00001-of-00002\n",
            "ckpt-10.data-00000-of-00002  ckpt-1.index\n",
            "ckpt-10.data-00001-of-00002  ckpt-2.data-00000-of-00002\n",
            "ckpt-10.index\t\t     ckpt-2.data-00001-of-00002\n",
            "ckpt-11.data-00000-of-00002  ckpt-2.index\n",
            "ckpt-11.data-00001-of-00002  ckpt-3.data-00000-of-00002\n",
            "ckpt-11.index\t\t     ckpt-3.data-00001-of-00002\n",
            "ckpt-12.data-00000-of-00002  ckpt-3.index\n",
            "ckpt-12.data-00001-of-00002  ckpt-4.data-00000-of-00002\n",
            "ckpt-12.index\t\t     ckpt-4.data-00001-of-00002\n",
            "ckpt-13.data-00000-of-00002  ckpt-4.index\n",
            "ckpt-13.data-00001-of-00002  ckpt-5.data-00000-of-00002\n",
            "ckpt-13.index\t\t     ckpt-5.data-00001-of-00002\n",
            "ckpt-14.data-00000-of-00002  ckpt-5.index\n",
            "ckpt-14.data-00001-of-00002  ckpt-6.data-00000-of-00002\n",
            "ckpt-14.index\t\t     ckpt-6.data-00001-of-00002\n",
            "ckpt-15.data-00000-of-00002  ckpt-6.index\n",
            "ckpt-15.data-00001-of-00002  ckpt-7.data-00000-of-00002\n",
            "ckpt-15.index\t\t     ckpt-7.data-00001-of-00002\n",
            "ckpt-16.data-00000-of-00002  ckpt-7.index\n",
            "ckpt-16.data-00001-of-00002  ckpt-8.data-00000-of-00002\n",
            "ckpt-16.index\t\t     ckpt-8.data-00001-of-00002\n",
            "ckpt-17.data-00000-of-00002  ckpt-8.index\n",
            "ckpt-17.data-00001-of-00002  ckpt-9.data-00000-of-00002\n",
            "ckpt-17.index\t\t     ckpt-9.data-00001-of-00002\n",
            "ckpt-1.data-00000-of-00002   ckpt-9.index\n"
          ],
          "name": "stdout"
        }
      ]
    },
    {
      "cell_type": "code",
      "metadata": {
        "id": "Yo3QV3uFqu4-",
        "colab_type": "code",
        "colab": {}
      },
      "source": [
        "@tf.function\n",
        "def train_step(inp, targ, enc_hidden):\n",
        "  loss = 0\n",
        "\n",
        "  with tf.GradientTape() as tape:\n",
        "    enc_output, enc_hidden = encoder(inp, enc_hidden)\n",
        "\n",
        "    dec_hidden = enc_hidden\n",
        "\n",
        "    dec_input = tf.expand_dims([tokenizer.word_index['<start>']] * BATCH_SIZE, 1)\n",
        "\n",
        "    # Teacher forcing - feeding the target as the next input\n",
        "    for t in range(1, targ.shape[1]):\n",
        "      # passing enc_output to the decoder\n",
        "      predictions, dec_hidden, _ = decoder(dec_input, dec_hidden, enc_output)\n",
        "\n",
        "      loss += loss_function(targ[:, t], predictions)\n",
        "\n",
        "      # using teacher forcing\n",
        "      dec_input = tf.expand_dims(targ[:, t], 1)\n",
        "      \n",
        "  batch_loss = (loss / int(targ.shape[1]))\n",
        "\n",
        "  variables = encoder.trainable_variables + decoder.trainable_variables\n",
        "\n",
        "  gradients = tape.gradient(loss, variables)\n",
        "\n",
        "  optimizer.apply_gradients(zip(gradients, variables))\n",
        "\n",
        "\n",
        "  return batch_loss"
      ],
      "execution_count": 0,
      "outputs": []
    },
    {
      "cell_type": "code",
      "metadata": {
        "id": "bDBfsejjxUIg",
        "colab_type": "code",
        "outputId": "97d317ac-c5d2-4c7a-b9f5-55b865665cf5",
        "colab": {
          "base_uri": "https://localhost:8080/",
          "height": 1000
        }
      },
      "source": [
        "EPOCHS = 25\n",
        "enc_hidden = encoder.initialize_hidden_state()\n",
        "\n",
        "for epoch in range(EPOCHS):\n",
        "  start = time.time()\n",
        "  total_loss = 0\n",
        "\n",
        "  for (batch, (inp, targ)) in enumerate(dataset.take(steps_per_epoch)):\n",
        "    batch_loss = train_step(inp, targ, enc_hidden)\n",
        "    total_loss += batch_loss\n",
        "\n",
        "    if batch % 100 == 0:\n",
        "      print('Epoch {} Batch {} Loss {:.4f}'.format(epoch + 1,\n",
        "                                                   batch,\n",
        "                                                   batch_loss.numpy()))\n",
        "  if (epoch + 1) % 2 == 0:\n",
        "    checkpoint.save(file_prefix = checkpoint_prefix)\n",
        "  \n",
        "  print('Epoch {} Loss {:.4f}'.format(epoch + 1,\n",
        "                                    total_loss / steps_per_epoch))\n",
        "  print('Time taken for 1 epoch {} sec\\n'.format(time.time() - start))"
      ],
      "execution_count": 0,
      "outputs": [
        {
          "output_type": "stream",
          "text": [
            "Epoch 1 Batch 0 Loss 3.2854\n",
            "Epoch 1 Batch 100 Loss 1.6866\n",
            "Epoch 1 Batch 200 Loss 1.1978\n",
            "Epoch 1 Batch 300 Loss 1.4191\n",
            "Epoch 1 Loss 1.5508\n",
            "Time taken for 1 epoch 34.021968364715576 sec\n",
            "\n",
            "Epoch 2 Batch 0 Loss 1.2201\n",
            "Epoch 2 Batch 100 Loss 1.4932\n",
            "Epoch 2 Batch 200 Loss 1.1206\n",
            "Epoch 2 Batch 300 Loss 1.3335\n",
            "Epoch 2 Loss 1.3454\n",
            "Time taken for 1 epoch 25.04085087776184 sec\n",
            "\n",
            "Epoch 3 Batch 0 Loss 1.1725\n",
            "Epoch 3 Batch 100 Loss 1.4139\n",
            "Epoch 3 Batch 200 Loss 1.0691\n",
            "Epoch 3 Batch 300 Loss 1.2972\n",
            "Epoch 3 Loss 1.2887\n",
            "Time taken for 1 epoch 24.239822387695312 sec\n",
            "\n",
            "Epoch 4 Batch 0 Loss 1.1442\n",
            "Epoch 4 Batch 100 Loss 1.3715\n",
            "Epoch 4 Batch 200 Loss 1.0426\n",
            "Epoch 4 Batch 300 Loss 1.2547\n",
            "Epoch 4 Loss 1.2453\n",
            "Time taken for 1 epoch 25.155386924743652 sec\n",
            "\n",
            "Epoch 5 Batch 0 Loss 1.1159\n",
            "Epoch 5 Batch 100 Loss 1.3418\n",
            "Epoch 5 Batch 200 Loss 1.0077\n",
            "Epoch 5 Batch 300 Loss 1.2141\n",
            "Epoch 5 Loss 1.2069\n",
            "Time taken for 1 epoch 24.40865993499756 sec\n",
            "\n",
            "Epoch 6 Batch 0 Loss 1.0831\n",
            "Epoch 6 Batch 100 Loss 1.3068\n",
            "Epoch 6 Batch 200 Loss 0.9822\n",
            "Epoch 6 Batch 300 Loss 1.1732\n",
            "Epoch 6 Loss 1.1671\n",
            "Time taken for 1 epoch 25.4331214427948 sec\n",
            "\n",
            "Epoch 7 Batch 0 Loss 1.0405\n",
            "Epoch 7 Batch 100 Loss 1.2767\n",
            "Epoch 7 Batch 200 Loss 0.9617\n",
            "Epoch 7 Batch 300 Loss 1.1251\n",
            "Epoch 7 Loss 1.1249\n",
            "Time taken for 1 epoch 24.270413875579834 sec\n",
            "\n",
            "Epoch 8 Batch 0 Loss 1.0019\n",
            "Epoch 8 Batch 100 Loss 1.2494\n",
            "Epoch 8 Batch 200 Loss 0.9337\n",
            "Epoch 8 Batch 300 Loss 1.0658\n",
            "Epoch 8 Loss 1.0763\n",
            "Time taken for 1 epoch 25.096693992614746 sec\n",
            "\n",
            "Epoch 9 Batch 0 Loss 0.9782\n",
            "Epoch 9 Batch 100 Loss 1.1904\n",
            "Epoch 9 Batch 200 Loss 0.8946\n",
            "Epoch 9 Batch 300 Loss 0.9932\n",
            "Epoch 9 Loss 1.0129\n",
            "Time taken for 1 epoch 24.48155641555786 sec\n",
            "\n",
            "Epoch 10 Batch 0 Loss 0.9137\n",
            "Epoch 10 Batch 100 Loss 1.1024\n",
            "Epoch 10 Batch 200 Loss 0.8558\n",
            "Epoch 10 Batch 300 Loss 0.9133\n",
            "Epoch 10 Loss 0.9302\n",
            "Time taken for 1 epoch 25.21527099609375 sec\n",
            "\n",
            "Epoch 11 Batch 0 Loss 0.8154\n",
            "Epoch 11 Batch 100 Loss 0.9606\n",
            "Epoch 11 Batch 200 Loss 0.7614\n",
            "Epoch 11 Batch 300 Loss 0.8127\n",
            "Epoch 11 Loss 0.8265\n",
            "Time taken for 1 epoch 24.74672031402588 sec\n",
            "\n",
            "Epoch 12 Batch 0 Loss 0.7081\n",
            "Epoch 12 Batch 100 Loss 0.7929\n",
            "Epoch 12 Batch 200 Loss 0.6748\n",
            "Epoch 12 Batch 300 Loss 0.6783\n",
            "Epoch 12 Loss 0.7114\n",
            "Time taken for 1 epoch 25.1204993724823 sec\n",
            "\n",
            "Epoch 13 Batch 0 Loss 0.6174\n",
            "Epoch 13 Batch 100 Loss 0.6565\n",
            "Epoch 13 Batch 200 Loss 0.5719\n",
            "Epoch 13 Batch 300 Loss 0.5824\n",
            "Epoch 13 Loss 0.6036\n",
            "Time taken for 1 epoch 24.17245101928711 sec\n",
            "\n",
            "Epoch 14 Batch 0 Loss 0.5076\n",
            "Epoch 14 Batch 100 Loss 0.5929\n",
            "Epoch 14 Batch 200 Loss 0.4648\n",
            "Epoch 14 Batch 300 Loss 0.5038\n",
            "Epoch 14 Loss 0.5097\n",
            "Time taken for 1 epoch 25.236066341400146 sec\n",
            "\n",
            "Epoch 15 Batch 0 Loss 0.4079\n",
            "Epoch 15 Batch 100 Loss 0.4761\n",
            "Epoch 15 Batch 200 Loss 0.4371\n",
            "Epoch 15 Batch 300 Loss 0.3807\n",
            "Epoch 15 Loss 0.4256\n",
            "Time taken for 1 epoch 24.531400442123413 sec\n",
            "\n",
            "Epoch 16 Batch 0 Loss 0.3431\n",
            "Epoch 16 Batch 100 Loss 0.3403\n",
            "Epoch 16 Batch 200 Loss 0.3789\n",
            "Epoch 16 Batch 300 Loss 0.3300\n",
            "Epoch 16 Loss 0.3461\n",
            "Time taken for 1 epoch 24.904879570007324 sec\n",
            "\n",
            "Epoch 17 Batch 0 Loss 0.2925\n",
            "Epoch 17 Batch 100 Loss 0.2854\n",
            "Epoch 17 Batch 200 Loss 0.3018\n",
            "Epoch 17 Batch 300 Loss 0.2427\n",
            "Epoch 17 Loss 0.2859\n",
            "Time taken for 1 epoch 24.243565559387207 sec\n",
            "\n",
            "Epoch 18 Batch 0 Loss 0.2381\n",
            "Epoch 18 Batch 100 Loss 0.2576\n",
            "Epoch 18 Batch 200 Loss 0.2319\n",
            "Epoch 18 Batch 300 Loss 0.2305\n",
            "Epoch 18 Loss 0.2479\n",
            "Time taken for 1 epoch 25.108542919158936 sec\n",
            "\n",
            "Epoch 19 Batch 0 Loss 0.2071\n",
            "Epoch 19 Batch 100 Loss 0.2454\n",
            "Epoch 19 Batch 200 Loss 0.2083\n",
            "Epoch 19 Batch 300 Loss 0.2108\n",
            "Epoch 19 Loss 0.2231\n",
            "Time taken for 1 epoch 24.664859533309937 sec\n",
            "\n",
            "Epoch 20 Batch 0 Loss 0.2142\n",
            "Epoch 20 Batch 100 Loss 0.2676\n",
            "Epoch 20 Batch 200 Loss 0.1915\n",
            "Epoch 20 Batch 300 Loss 0.1986\n",
            "Epoch 20 Loss 0.2059\n",
            "Time taken for 1 epoch 24.920053005218506 sec\n",
            "\n",
            "Epoch 21 Batch 0 Loss 0.1865\n",
            "Epoch 21 Batch 100 Loss 0.1963\n",
            "Epoch 21 Batch 200 Loss 0.2275\n",
            "Epoch 21 Batch 300 Loss 0.1731\n",
            "Epoch 21 Loss 0.1987\n",
            "Time taken for 1 epoch 24.631901025772095 sec\n",
            "\n",
            "Epoch 22 Batch 0 Loss 0.2497\n",
            "Epoch 22 Batch 100 Loss 0.2034\n",
            "Epoch 22 Batch 200 Loss 0.1864\n",
            "Epoch 22 Batch 300 Loss 0.1795\n",
            "Epoch 22 Loss 0.1974\n",
            "Time taken for 1 epoch 25.018335342407227 sec\n",
            "\n",
            "Epoch 23 Batch 0 Loss 0.1658\n",
            "Epoch 23 Batch 100 Loss 0.2388\n",
            "Epoch 23 Batch 200 Loss 0.1831\n",
            "Epoch 23 Batch 300 Loss 0.1779\n",
            "Epoch 23 Loss 0.1992\n",
            "Time taken for 1 epoch 24.22280526161194 sec\n",
            "\n",
            "Epoch 24 Batch 0 Loss 0.1784\n",
            "Epoch 24 Batch 100 Loss 0.2193\n",
            "Epoch 24 Batch 200 Loss 0.1782\n",
            "Epoch 24 Batch 300 Loss 0.1547\n",
            "Epoch 24 Loss 0.1908\n",
            "Time taken for 1 epoch 24.821042776107788 sec\n",
            "\n",
            "Epoch 25 Batch 0 Loss 0.1649\n",
            "Epoch 25 Batch 100 Loss 0.1880\n",
            "Epoch 25 Batch 200 Loss 0.1874\n",
            "Epoch 25 Batch 300 Loss 0.1608\n",
            "Epoch 25 Loss 0.1779\n",
            "Time taken for 1 epoch 24.472826957702637 sec\n",
            "\n"
          ],
          "name": "stdout"
        }
      ]
    },
    {
      "cell_type": "code",
      "metadata": {
        "id": "_KrAfSEKcrT_",
        "colab_type": "code",
        "colab": {}
      },
      "source": [
        "def evaluate(sentence):\n",
        "  max_length_targ = 9\n",
        "  max_length_inp = 9\n",
        "  attention_plot = np.zeros((max_length_targ, max_length_inp))\n",
        "\n",
        "  sentence = clean_text(sentence)\n",
        "\n",
        "  inputs = [tokenizer.word_index[i] for i in sentence.split(' ')]\n",
        "  inputs = tf.keras.preprocessing.sequence.pad_sequences([inputs],\n",
        "                                                         maxlen=max_length_inp,\n",
        "                                                         padding='post')\n",
        "  inputs = tf.convert_to_tensor(inputs)\n",
        "\n",
        "  result = ''\n",
        "\n",
        "  hidden = [tf.zeros((1, units))]\n",
        "  enc_out, enc_hidden = encoder(inputs, hidden)\n",
        "\n",
        "  dec_hidden = enc_hidden\n",
        "  dec_input = tf.expand_dims([tokenizer.word_index['<start>']], 0)\n",
        "\n",
        "  for t in range(max_length_targ):\n",
        "    predictions, dec_hidden, attention_weights = decoder(dec_input,\n",
        "                                                         dec_hidden,\n",
        "                                                         enc_out)\n",
        "\n",
        "    # storing the attention weights to plot later on\n",
        "    attention_weights = tf.reshape(attention_weights, (-1, ))\n",
        "    attention_plot[t] = attention_weights.numpy()\n",
        "\n",
        "    predicted_id = tf.argmax(predictions[0]).numpy()\n",
        "\n",
        "    result += tokenizer.index_word[predicted_id] + ' '\n",
        "\n",
        "    if tokenizer.index_word[predicted_id] == '<end>':\n",
        "      return result, sentence, attention_plot\n",
        "\n",
        "    # the predicted ID is fed back into the model\n",
        "    dec_input = tf.expand_dims([predicted_id], 0)\n",
        "\n",
        "  return result, sentence, attention_plot"
      ],
      "execution_count": 0,
      "outputs": []
    },
    {
      "cell_type": "code",
      "metadata": {
        "id": "W8yqld67dYt1",
        "colab_type": "code",
        "colab": {}
      },
      "source": [
        "# function for plotting the attention weights\n",
        "def plot_attention(attention, sentence, predicted_sentence):\n",
        "  fig = plt.figure(figsize=(10,10))\n",
        "  ax = fig.add_subplot(1, 1, 1)\n",
        "  ax.matshow(attention, cmap='viridis')\n",
        "\n",
        "  fontdict = {'fontsize': 14}\n",
        "\n",
        "  ax.set_xticklabels([''] + sentence, fontdict=fontdict, rotation=90)\n",
        "  ax.set_yticklabels([''] + predicted_sentence, fontdict=fontdict)\n",
        "\n",
        "  ax.xaxis.set_major_locator(ticker.MultipleLocator(1))\n",
        "  ax.yaxis.set_major_locator(ticker.MultipleLocator(1))\n",
        "\n",
        "  plt.show()"
      ],
      "execution_count": 0,
      "outputs": []
    },
    {
      "cell_type": "code",
      "metadata": {
        "id": "a5VNqQF8iici",
        "colab_type": "code",
        "colab": {}
      },
      "source": [
        "def speak(sentence):\n",
        "  result, sentence, attention_plot = evaluate(sentence)\n",
        "\n",
        "  #print('Input: %s' % (sentence))\n",
        "  print('Reply: {}'.format(result))\n",
        "\n",
        "  attention_plot = attention_plot[:len(result.split(' ')), :len(sentence.split(' '))]\n",
        "  plot_attention(attention_plot, sentence.split(' '), result.split(' '))"
      ],
      "execution_count": 0,
      "outputs": []
    },
    {
      "cell_type": "code",
      "metadata": {
        "id": "KiFVj1nbin5z",
        "colab_type": "code",
        "outputId": "da8c4754-bbf2-4705-b73e-b7797657d88f",
        "colab": {
          "base_uri": "https://localhost:8080/"
        }
      },
      "source": [
        "speak('what did you eat for dinner')"
      ],
      "execution_count": 0,
      "outputs": [
        {
          "output_type": "stream",
          "text": [
            "Reply: just meet him <end> \n"
          ],
          "name": "stdout"
        },
        {
          "output_type": "display_data",
          "data": {
            "image/png": "[encoded data removed]",
            "text/plain": [
              "<Figure size 720x720 with 1 Axes>"
            ]
          },
          "metadata": {
            "tags": [],
            "needs_background": "light"
          }
        }
      ]
    },
    {
      "cell_type": "code",
      "metadata": {
        "id": "r153hDehk2ab",
        "colab_type": "code",
        "outputId": "80f6423f-08cb-47bf-c967-27c0ad2f76d2",
        "colab": {
          "base_uri": "https://localhost:8080/"
        }
      },
      "source": [
        "speak('what is your name')"
      ],
      "execution_count": 0,
      "outputs": [
        {
          "output_type": "stream",
          "text": [
            "Reply: like my <oov> <end> \n"
          ],
          "name": "stdout"
        },
        {
          "output_type": "display_data",
          "data": {
            "image/png": "[encoded data removed]",
            "text/plain": [
              "<Figure size 720x720 with 1 Axes>"
            ]
          },
          "metadata": {
            "tags": [],
            "needs_background": "light"
          }
        }
      ]
    },
    {
      "cell_type": "code",
      "metadata": {
        "id": "UWpfxSAZk6ir",
        "colab_type": "code",
        "outputId": "a235c7e9-4600-4ea8-a361-beeb22759c47",
        "colab": {
          "base_uri": "https://localhost:8080/"
        }
      },
      "source": [
        "speak('what do you like to do')"
      ],
      "execution_count": 0,
      "outputs": [
        {
          "output_type": "stream",
          "text": [
            "Reply: i am <oov> <end> \n"
          ],
          "name": "stdout"
        },
        {
          "output_type": "display_data",
          "data": {
            "image/png": "[encoded data removed]",
            "text/plain": [
              "<Figure size 720x720 with 1 Axes>"
            ]
          },
          "metadata": {
            "tags": [],
            "needs_background": "light"
          }
        }
      ]
    },
    {
      "cell_type": "code",
      "metadata": {
        "id": "h4-owSyAlBN2",
        "colab_type": "code",
        "outputId": "22b75e63-b56b-43bc-b4e8-f836d454d2ba",
        "colab": {
          "base_uri": "https://localhost:8080/"
        }
      },
      "source": [
        "speak('please understand me')"
      ],
      "execution_count": 0,
      "outputs": [
        {
          "output_type": "stream",
          "text": [
            "Reply: <oov> too <end> \n"
          ],
          "name": "stdout"
        },
        {
          "output_type": "display_data",
          "data": {
            "image/png": "[encoded data removed]",
            "text/plain": [
              "<Figure size 720x720 with 1 Axes>"
            ]
          },
          "metadata": {
            "tags": [],
            "needs_background": "light"
          }
        }
      ]
    },
    {
      "cell_type": "code",
      "metadata": {
        "id": "ZfTwGdJmlIWW",
        "colab_type": "code",
        "outputId": "ada8ebd7-3a5c-4b55-97c6-930c36a6d4d9",
        "colab": {
          "base_uri": "https://localhost:8080/"
        }
      },
      "source": [
        "speak('am i your friend')"
      ],
      "execution_count": 0,
      "outputs": [
        {
          "output_type": "stream",
          "text": [
            "Reply: i will see <end> \n"
          ],
          "name": "stdout"
        },
        {
          "output_type": "display_data",
          "data": {
            "image/png": "[encoded data removed]",
            "text/plain": [
              "<Figure size 720x720 with 1 Axes>"
            ]
          },
          "metadata": {
            "tags": [],
            "needs_background": "light"
          }
        }
      ]
    },
    {
      "cell_type": "code",
      "metadata": {
        "id": "klC6gj-Vlz5W",
        "colab_type": "code",
        "outputId": "c522b48c-44f8-404b-f48f-dd342eb4a73d",
        "colab": {
          "base_uri": "https://localhost:8080/"
        }
      },
      "source": [
        "speak('will you come to my house')"
      ],
      "execution_count": 0,
      "outputs": [
        {
          "output_type": "stream",
          "text": [
            "Reply: you will be all right <end> \n"
          ],
          "name": "stdout"
        },
        {
          "output_type": "display_data",
          "data": {
            "image/png": "[encoded data removed]",
            "text/plain": [
              "<Figure size 720x720 with 1 Axes>"
            ]
          },
          "metadata": {
            "tags": [],
            "needs_background": "light"
          }
        }
      ]
    },
    {
      "cell_type": "code",
      "metadata": {
        "id": "hu8DDJOEl_vf",
        "colab_type": "code",
        "outputId": "a5fe9988-fbcf-4132-d64b-c3c8ec4f73bd",
        "colab": {
          "base_uri": "https://localhost:8080/"
        }
      },
      "source": [
        "speak('where were you born')"
      ],
      "execution_count": 0,
      "outputs": [
        {
          "output_type": "stream",
          "text": [
            "Reply: he cannot have to <end> \n"
          ],
          "name": "stdout"
        },
        {
          "output_type": "display_data",
          "data": {
            "image/png": "[encoded data removed]",
            "text/plain": [
              "<Figure size 720x720 with 1 Axes>"
            ]
          },
          "metadata": {
            "tags": [],
            "needs_background": "light"
          }
        }
      ]
    },
    {
      "cell_type": "code",
      "metadata": {
        "id": "eirhPjrqmK-w",
        "colab_type": "code",
        "outputId": "2a7b3ab4-d0e9-45ac-a07a-7f76499cb821",
        "colab": {
          "base_uri": "https://localhost:8080/"
        }
      },
      "source": [
        "speak('did you watch the movie')"
      ],
      "execution_count": 0,
      "outputs": [
        {
          "output_type": "stream",
          "text": [
            "Reply: yes <end> \n"
          ],
          "name": "stdout"
        },
        {
          "output_type": "display_data",
          "data": {
            "image/png": "[encoded data removed]",
            "text/plain": [
              "<Figure size 720x720 with 1 Axes>"
            ]
          },
          "metadata": {
            "tags": [],
            "needs_background": "light"
          }
        }
      ]
    },
    {
      "cell_type": "code",
      "metadata": {
        "id": "3XNzNnUpoCz-",
        "colab_type": "code",
        "outputId": "50acda18-768d-4d3a-df9f-8f4e788ac06c",
        "colab": {
          "base_uri": "https://localhost:8080/"
        }
      },
      "source": [
        "speak('let us go')"
      ],
      "execution_count": 0,
      "outputs": [
        {
          "output_type": "stream",
          "text": [
            "Reply: oh <end> \n"
          ],
          "name": "stdout"
        },
        {
          "output_type": "display_data",
          "data": {
            "image/png": "[encoded data removed]",
            "text/plain": [
              "<Figure size 720x720 with 1 Axes>"
            ]
          },
          "metadata": {
            "tags": [],
            "needs_background": "light"
          }
        }
      ]
    },
    {
      "cell_type": "code",
      "metadata": {
        "id": "t7hF_Fc2oMcw",
        "colab_type": "code",
        "outputId": "86e2e392-ea59-4865-b5e0-d0e39d658712",
        "colab": {
          "base_uri": "https://localhost:8080/"
        }
      },
      "source": [
        "speak('the weather is very hot today')"
      ],
      "execution_count": 0,
      "outputs": [
        {
          "output_type": "stream",
          "text": [
            "Reply: how do you say <end> \n"
          ],
          "name": "stdout"
        },
        {
          "output_type": "display_data",
          "data": {
            "image/png": "[encoded data removed]",
            "text/plain": [
              "<Figure size 720x720 with 1 Axes>"
            ]
          },
          "metadata": {
            "tags": [],
            "needs_background": "light"
          }
        }
      ]
    },
    {
      "cell_type": "code",
      "metadata": {
        "id": "haG7yPkyoyn6",
        "colab_type": "code",
        "outputId": "34e1f30c-fd73-403a-ae04-ae727378075a",
        "colab": {
          "base_uri": "https://localhost:8080/"
        }
      },
      "source": [
        "speak('why are you')"
      ],
      "execution_count": 0,
      "outputs": [
        {
          "output_type": "stream",
          "text": [
            "Reply: you <end> \n"
          ],
          "name": "stdout"
        },
        {
          "output_type": "display_data",
          "data": {
            "image/png": "[encoded data removed]",
            "text/plain": [
              "<Figure size 720x720 with 1 Axes>"
            ]
          },
          "metadata": {
            "tags": [],
            "needs_background": "light"
          }
        }
      ]
    },
    {
      "cell_type": "code",
      "metadata": {
        "id": "c06Gk6hupJVh",
        "colab_type": "code",
        "outputId": "52303ae6-f369-4732-d4e2-5eb034ea7a69",
        "colab": {
          "base_uri": "https://localhost:8080/"
        }
      },
      "source": [
        "speak('where is he')"
      ],
      "execution_count": 0,
      "outputs": [
        {
          "output_type": "stream",
          "text": [
            "Reply: like ten <end> \n"
          ],
          "name": "stdout"
        },
        {
          "output_type": "display_data",
          "data": {
            "image/png": "[encoded data removed]",
            "text/plain": [
              "<Figure size 720x720 with 1 Axes>"
            ]
          },
          "metadata": {
            "tags": [],
            "needs_background": "light"
          }
        }
      ]
    },
    {
      "cell_type": "code",
      "metadata": {
        "id": "3yKKNu1dpUGl",
        "colab_type": "code",
        "outputId": "35ea3959-de03-4a1a-c73b-65b9a194cc42",
        "colab": {
          "base_uri": "https://localhost:8080/"
        }
      },
      "source": [
        "speak('where is she')"
      ],
      "execution_count": 0,
      "outputs": [
        {
          "output_type": "stream",
          "text": [
            "Reply: where <end> \n"
          ],
          "name": "stdout"
        },
        {
          "output_type": "display_data",
          "data": {
            "image/png": "[encoded data removed]",
            "text/plain": [
              "<Figure size 720x720 with 1 Axes>"
            ]
          },
          "metadata": {
            "tags": [],
            "needs_background": "light"
          }
        }
      ]
    },
    {
      "cell_type": "code",
      "metadata": {
        "id": "SJRUfQfspewX",
        "colab_type": "code",
        "outputId": "ee41f796-7eb7-4bfc-acb0-e1fe36c987b6",
        "colab": {
          "base_uri": "https://localhost:8080/"
        }
      },
      "source": [
        "speak('you want to go out')"
      ],
      "execution_count": 0,
      "outputs": [
        {
          "output_type": "stream",
          "text": [
            "Reply: i will get it <end> \n"
          ],
          "name": "stdout"
        },
        {
          "output_type": "display_data",
          "data": {
            "image/png": "[encoded data removed]",
            "text/plain": [
              "<Figure size 720x720 with 1 Axes>"
            ]
          },
          "metadata": {
            "tags": [],
            "needs_background": "light"
          }
        }
      ]
    },
    {
      "cell_type": "code",
      "metadata": {
        "id": "GBNEpH6Dp8Zi",
        "colab_type": "code",
        "outputId": "342e05ce-bd45-4047-ccca-8565dd34e8ad",
        "colab": {
          "base_uri": "https://localhost:8080/"
        }
      },
      "source": [
        "speak('do you know someone from us')"
      ],
      "execution_count": 0,
      "outputs": [
        {
          "output_type": "stream",
          "text": [
            "Reply: where is over here <end> \n"
          ],
          "name": "stdout"
        },
        {
          "output_type": "display_data",
          "data": {
            "image/png": "[encoded data removed]",
            "text/plain": [
              "<Figure size 720x720 with 1 Axes>"
            ]
          },
          "metadata": {
            "tags": [],
            "needs_background": "light"
          }
        }
      ]
    }
  ]
}