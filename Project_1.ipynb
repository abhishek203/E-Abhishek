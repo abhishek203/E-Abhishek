{
  "nbformat": 4,
  "nbformat_minor": 0,
  "metadata": {
    "colab": {
      "name": "Project_1.ipynb",
      "provenance": [],
      "authorship_tag": "ABX9TyP8I3oJf12bsKSJry38UaJH"
    },
    "kernelspec": {
      "name": "python3",
      "display_name": "Python 3"
    }
  },
  "cells": [
    {
      "cell_type": "code",
      "metadata": {
        "id": "osBj6ytK0hxN",
        "colab_type": "code",
        "colab": {}
      },
      "source": [
        "#Code to find admittance matrix of any circuit"
      ],
      "execution_count": 0,
      "outputs": []
    },
    {
      "cell_type": "code",
      "metadata": {
        "id": "gSHMojAsUEXr",
        "colab_type": "code",
        "outputId": "0a31d343-0eb2-4395-f155-730b90792ba0",
        "colab": {
          "base_uri": "https://localhost:8080/",
          "height": 35
        }
      },
      "source": [
        "print(\"Assume one of the node as ground and assume voltages v1,v2...for other nodes in the circuit\")"
      ],
      "execution_count": 7,
      "outputs": [
        {
          "output_type": "stream",
          "text": [
            "Assume one of the node as ground and assume voltages v1,v2...for other nodes in the circuit\n"
          ],
          "name": "stdout"
        }
      ]
    },
    {
      "cell_type": "code",
      "metadata": {
        "id": "nGcaJYlHUnX4",
        "colab_type": "code",
        "outputId": "64486417-b299-422b-8a04-8288483c2463",
        "colab": {
          "base_uri": "https://localhost:8080/",
          "height": 35
        }
      },
      "source": [
        "nodes = int(input(\"Give number of nodes without including ground : \"))"
      ],
      "execution_count": 8,
      "outputs": [
        {
          "output_type": "stream",
          "text": [
            "Give number of nodes without including ground : 2\n"
          ],
          "name": "stdout"
        }
      ]
    },
    {
      "cell_type": "code",
      "metadata": {
        "id": "7RbaHjb2Vrvm",
        "colab_type": "code",
        "colab": {}
      },
      "source": [
        "rows, cols = (nodes,nodes) \n",
        "Y = [[0 for i in range(cols)] for j in range(rows)] "
      ],
      "execution_count": 0,
      "outputs": []
    },
    {
      "cell_type": "code",
      "metadata": {
        "id": "fYvKXCNfv-0E",
        "colab_type": "code",
        "outputId": "a3724c1d-cd57-4427-f70f-aee1db1bfa5c",
        "colab": {
          "base_uri": "https://localhost:8080/",
          "height": 69
        }
      },
      "source": [
        "for i in range(nodes):\n",
        "  for k in range(nodes):\n",
        "    if i ==k:\n",
        "      x = list( input(\"Give impedance one by one who have one terminal with v{} seperated by comma: \".format(i+1)).split(','))\n",
        "      for m in range(len(x)):\n",
        "        Y[i][k]+=1/complex(x[m])\n",
        "    if i<k:\n",
        "      x = list( input(\"Give impedance one by one who have one terminal with v{} and other terminal is v{}seperated by comma: \".format(i+1,k+1)).split(','))\n",
        "      for m in range(len(x)):\n",
        "        Y[i][k]+=-1/complex(x[m])\n",
        "    if i>k:\n",
        "      Y[i][k] = Y[k][i]\n"
      ],
      "execution_count": 10,
      "outputs": [
        {
          "output_type": "stream",
          "text": [
            "Give impedance one by one who have one terminal with v1 seperated by comma: 2+2j,3+4j\n",
            "Give impedance one by one who have one terminal with v1 and other terminal is v2seperated by comma: 2+2j,3+4j\n",
            "Give impedance one by one who have one terminal with v2 seperated by comma: 2+2j,3+4j,j\n"
          ],
          "name": "stdout"
        }
      ]
    },
    {
      "cell_type": "code",
      "metadata": {
        "id": "9WD6Gzostiho",
        "colab_type": "code",
        "colab": {
          "base_uri": "https://localhost:8080/",
          "height": 69
        },
        "outputId": "696a4eb3-7143-4193-b6fa-f39b4aca7499"
      },
      "source": [
        "print('The admitance matrix is :')\n",
        "for row in Y:\n",
        "  print(row)"
      ],
      "execution_count": 16,
      "outputs": [
        {
          "output_type": "stream",
          "text": [
            "The admitance matrix is :\n",
            "[(0.37-0.41000000000000003j), (-0.37+0.41000000000000003j)]\n",
            "[(-0.37+0.41000000000000003j), (0.37-1.4100000000000001j)]\n"
          ],
          "name": "stdout"
        }
      ]
    }
  ]
}